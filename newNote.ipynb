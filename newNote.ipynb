{
 "nbformat": 4,
 "nbformat_minor": 2,
 "metadata": {
  "language_info": {
   "name": "python",
   "codemirror_mode": {
    "name": "ipython",
    "version": 3
   },
   "version": "3.7.4-final"
  },
  "orig_nbformat": 2,
  "file_extension": ".py",
  "mimetype": "text/x-python",
  "name": "python",
  "npconvert_exporter": "python",
  "pygments_lexer": "ipython3",
  "version": 3,
  "kernelspec": {
   "name": "python37464bitbaseconda212e0a50970449ddb3326fa8d2a24a1c",
   "display_name": "Python 3.7.4 64-bit ('base': conda)"
  }
 },
 "cells": [
  {
   "source": [
    "class Employee:\n",
    "    def __init__(self, first, last, pay):\n",
    "        self.first = first\n",
    "        self.last = last\n",
    "        self.email = first + '.'+ last + '@company.com'\n",
    "        self.pay = pay\n",
    "\n",
    "    def fullName(self):\n",
    "        return '{} {}'.format(self.first, self.last)\n",
    "emp1 = Employee('madhu', 'nepal', 2300)\n",
    "emp2 = Employee('shanti', 'nepal', 12400)\n",
    "#print(emp1.last)\n",
    "#print(emp2.email)\n",
    "print(emp2.fullName())"
   ],
   "cell_type": "code",
   "outputs": [
    {
     "output_type": "stream",
     "name": "stdout",
     "text": "shanti nepal\n"
    }
   ],
   "metadata": {},
   "execution_count": 16
  },
  {
   "cell_type": "code",
   "execution_count": null,
   "metadata": {},
   "outputs": [],
   "source": []
  }
 ]
}